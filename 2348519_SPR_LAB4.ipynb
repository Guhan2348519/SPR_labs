{
  "nbformat": 4,
  "nbformat_minor": 0,
  "metadata": {
    "colab": {
      "provenance": [],
      "authorship_tag": "ABX9TyMfQDBoy+c2WA75eeJv5lTA",
      "include_colab_link": true
    },
    "kernelspec": {
      "name": "python3",
      "display_name": "Python 3"
    },
    "language_info": {
      "name": "python"
    }
  },
  "cells": [
    {
      "cell_type": "markdown",
      "metadata": {
        "id": "view-in-github",
        "colab_type": "text"
      },
      "source": [
        "<a href=\"https://colab.research.google.com/github/Guhan2348519/SPR_labs/blob/main/2348519_SPR_LAB4.ipynb\" target=\"_parent\"><img src=\"https://colab.research.google.com/assets/colab-badge.svg\" alt=\"Open In Colab\"/></a>"
      ]
    },
    {
      "cell_type": "code",
      "source": [
        "import numpy as np\n",
        "import librosa\n",
        "import matplotlib.pyplot as plt\n",
        "from scipy.signal import freqz\n",
        "\n",
        "# Load a short speech signal (you can replace this with your own recorded signal)\n",
        "filename = 'path_to_your_speech_file.wav'  # Replace with your own file\n",
        "signal, sr = librosa.load(filename, sr=None)\n",
        "\n",
        "# (b) LPC Analysis to extract coefficients\n",
        "def lpc_analysis(signal, order):\n",
        "    # Apply LPC using librosa\n",
        "    lpc_coeffs = librosa.lpc(signal, order)\n",
        "    return lpc_coeffs\n",
        "\n",
        "# (c) Reconstruct the signal using LPC coefficients\n",
        "def reconstruct_signal(lpc_coeffs, signal_length):\n",
        "    # Reconstructing signal from LPC coefficients\n",
        "    reconstructed_signal = np.zeros(signal_length)\n",
        "    for n in range(len(reconstructed_signal)):\n",
        "        reconstructed_signal[n] = np.dot(lpc_coeffs[1:], reconstructed_signal[n-len(lpc_coeffs[1:]):n][::-1]) - lpc_coeffs[0]\n",
        "    return reconstructed_signal\n",
        "\n",
        "# (d) Estimate formants from LPC coefficients\n",
        "def estimate_formants(lpc_coeffs, sr):\n",
        "    # Calculate roots of LPC polynomial\n",
        "    roots = np.roots(lpc_coeffs)\n",
        "    roots = [r for r in roots if np.imag(r) >= 0]\n",
        "    angles = np.angle(roots)\n",
        "\n",
        "    # Convert angles to frequencies (formants)\n",
        "    formants = sorted(angles * (sr / (2 * np.pi)))\n",
        "    return formants\n",
        "\n",
        "# (e) Plot the formant frequencies on a frequency response plot\n",
        "def plot_formants(lpc_coeffs, sr, formants):\n",
        "    w, h = freqz(1, lpc_coeffs, worN=512, fs=sr)\n",
        "\n",
        "    plt.figure(figsize=(10, 6))\n",
        "    plt.plot(w, 20 * np.log10(np.abs(h)), label='Frequency response')\n",
        "    for formant in formants:\n",
        "        plt.axvline(formant, color='red', linestyle='--', label=f'Formant {round(formant, 2)} Hz')\n",
        "    plt.title('LPC Frequency Response with Formants')\n",
        "    plt.xlabel('Frequency (Hz)')\n",
        "    plt.ylabel('Magnitude (dB)')\n",
        "    plt.legend()\n",
        "    plt.show()\n",
        "\n",
        "# Parameters\n",
        "order = 16  # LPC order (adjust based on the signal)\n",
        "\n",
        "# (b) Get LPC coefficients\n",
        "lpc_coeffs = lpc_analysis(signal, order)\n",
        "\n",
        "# (c) Reconstruct the signal\n",
        "reconstructed_signal = reconstruct_signal(lpc_coeffs, len(signal))\n",
        "\n",
        "# Plot original and reconstructed signals\n",
        "plt.figure(figsize=(10, 6))\n",
        "plt.subplot(2, 1, 1)\n",
        "plt.plot(signal)\n",
        "plt.title(\"Original Speech Signal\")\n",
        "plt.subplot(2, 1, 2)\n",
        "plt.plot(reconstructed_signal)\n",
        "plt.title(\"Reconstructed Speech Signal\")\n",
        "plt.show()\n",
        "\n",
        "# (d) Estimate formants from LPC coefficients\n",
        "formants = estimate_formants(lpc_coeffs, sr)\n",
        "\n",
        "# Print estimated formants\n",
        "print(f\"Estimated Formants: {formants}\")\n",
        "\n",
        "# (e) Plot formant frequencies\n",
        "plot_formants(lpc_coeffs, sr, formants)"
      ],
      "metadata": {
        "id": "N3rjwQwv2UlL"
      },
      "execution_count": null,
      "outputs": []
    }
  ]
}